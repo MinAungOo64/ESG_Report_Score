{
 "cells": [
  {
   "cell_type": "markdown",
   "id": "88fef01e-ca61-4c0e-999a-24a8a4bc9783",
   "metadata": {},
   "source": [
    "## Load the saved model"
   ]
  },
  {
   "cell_type": "code",
   "execution_count": null,
   "id": "4fc44c56-5038-4c4a-b914-195ddce415ea",
   "metadata": {},
   "outputs": [],
   "source": [
    "from transformers import LongformerModel, AutoTokenizer\n",
    "\n",
    "output_dir = \"C:/Users/steve/HuggingFace Models/LongFormer_ESG_Score\" \n",
    "model = LongformerModel.from_pretrained(output_dir)\n",
    "tokenizer = AutoTokenizer.from_pretrained(output_dir)"
   ]
  },
  {
   "cell_type": "markdown",
   "id": "a767b828-fc0d-4164-84e1-1c11d46b21ba",
   "metadata": {},
   "source": [
    "## Testing the model"
   ]
  },
  {
   "cell_type": "code",
   "execution_count": null,
   "id": "a71ef9a0-7622-4f90-8555-76a0c687b48e",
   "metadata": {},
   "outputs": [],
   "source": [
    "model.eval()\n",
    "test_loss = 0\n",
    "with torch.no_grad():\n",
    "    for batch in test_dataloader:\n",
    "        batch = {k: v.to(device) for k, v in batch.items()}\n",
    "        \n",
    "        inputs = {\n",
    "            \"input_ids\": batch[\"input_ids\"],\n",
    "            \"attention_mask\": batch[\"attention_mask\"]\n",
    "        }\n",
    "        labels = torch.stack([\n",
    "            batch['e_score'],\n",
    "            batch['s_score'],\n",
    "            batch['g_score'],\n",
    "            batch['total_score']\n",
    "        ], dim=1).float()\n",
    "        \n",
    "        outputs = model(**inputs)\n",
    "        loss = loss_fn(outputs, labels)\n",
    "        test_loss += loss.item()\n",
    "\n",
    "avg_test_loss = test_loss / len(test_dataloader)\n",
    "print(f\"Test Loss: {avg_test_loss:.4f}\")"
   ]
  }
 ],
 "metadata": {
  "kernelspec": {
   "display_name": "Python 3 (ipykernel)",
   "language": "python",
   "name": "python3"
  },
  "language_info": {
   "codemirror_mode": {
    "name": "ipython",
    "version": 3
   },
   "file_extension": ".py",
   "mimetype": "text/x-python",
   "name": "python",
   "nbconvert_exporter": "python",
   "pygments_lexer": "ipython3",
   "version": "3.12.3"
  }
 },
 "nbformat": 4,
 "nbformat_minor": 5
}
