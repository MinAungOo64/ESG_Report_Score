{
 "cells": [
  {
   "cell_type": "markdown",
   "id": "6e653d09-7619-4b35-800c-1d73bfa04a6f",
   "metadata": {},
   "source": [
    "# Dataset"
   ]
  },
  {
   "cell_type": "markdown",
   "id": "660c742a-014a-4fe3-962c-332546d4729d",
   "metadata": {},
   "source": [
    "### Splitting Train, Validation and Test"
   ]
  },
  {
   "cell_type": "code",
   "execution_count": 6,
   "id": "b4b59a46-9c3c-450d-8fa2-e6f013a8d0dd",
   "metadata": {},
   "outputs": [],
   "source": [
    "from datasets import DatasetDict, load_dataset\n",
    "\n",
    "# Load full dataset\n",
    "full_dataset = load_dataset(\"csv\", data_files=\"esg_dataset.csv\")[\"train\"]\n",
    "\n",
    "# Step 1: Split off test set (20%)\n",
    "split_dataset = full_dataset.train_test_split(test_size=0.2, seed=42)\n",
    "train_val = split_dataset[\"train\"]\n",
    "test = split_dataset[\"test\"]\n",
    "\n",
    "# Step 2: Split training set again to get validation set (10% of remaining 80%)\n",
    "train_val_split = train_val.train_test_split(test_size=0.1, seed=42)\n",
    "train = train_val_split[\"train\"]\n",
    "validation = train_val_split[\"test\"]\n",
    "\n",
    "# Wrap everything into a DatasetDict\n",
    "dataset = DatasetDict({\n",
    "    \"train\": train,\n",
    "    \"validation\": validation,\n",
    "    \"test\": test\n",
    "})"
   ]
  },
  {
   "cell_type": "markdown",
   "id": "fb34ed6d-59d9-43a7-8c83-05b4b8e996ff",
   "metadata": {},
   "source": [
    "### Data is in Apache Arrow Format\n",
    "\n",
    "Apache Arrow format does not load the data into memory and speeds up operations like batching, filtering and .map() functions."
   ]
  },
  {
   "cell_type": "code",
   "execution_count": 9,
   "id": "706f8123-61f3-459b-b64d-d858a9db4852",
   "metadata": {},
   "outputs": [
    {
     "data": {
      "text/plain": [
       "DatasetDict({\n",
       "    train: Dataset({\n",
       "        features: ['Unnamed: 0', 'filename', 'ticker', 'year', 'preprocessed_content', 'ner_entities', 'e_score', 's_score', 'g_score', 'total_score'],\n",
       "        num_rows: 622\n",
       "    })\n",
       "    validation: Dataset({\n",
       "        features: ['Unnamed: 0', 'filename', 'ticker', 'year', 'preprocessed_content', 'ner_entities', 'e_score', 's_score', 'g_score', 'total_score'],\n",
       "        num_rows: 70\n",
       "    })\n",
       "    test: Dataset({\n",
       "        features: ['Unnamed: 0', 'filename', 'ticker', 'year', 'preprocessed_content', 'ner_entities', 'e_score', 's_score', 'g_score', 'total_score'],\n",
       "        num_rows: 174\n",
       "    })\n",
       "})"
      ]
     },
     "execution_count": 9,
     "metadata": {},
     "output_type": "execute_result"
    }
   ],
   "source": [
    "dataset"
   ]
  },
  {
   "cell_type": "markdown",
   "id": "e02533de-c567-4091-b89b-b3fa841ca189",
   "metadata": {},
   "source": [
    "### View in Pandas\n",
    "\n",
    "You can convert it back into panda for data visualisation"
   ]
  },
  {
   "cell_type": "code",
   "execution_count": 12,
   "id": "23e10b7d-534f-4cb2-9001-3f162135f5ab",
   "metadata": {},
   "outputs": [
    {
     "data": {
      "text/html": [
       "<div>\n",
       "<style scoped>\n",
       "    .dataframe tbody tr th:only-of-type {\n",
       "        vertical-align: middle;\n",
       "    }\n",
       "\n",
       "    .dataframe tbody tr th {\n",
       "        vertical-align: top;\n",
       "    }\n",
       "\n",
       "    .dataframe thead th {\n",
       "        text-align: right;\n",
       "    }\n",
       "</style>\n",
       "<table border=\"1\" class=\"dataframe\">\n",
       "  <thead>\n",
       "    <tr style=\"text-align: right;\">\n",
       "      <th></th>\n",
       "      <th>Unnamed: 0</th>\n",
       "      <th>filename</th>\n",
       "      <th>ticker</th>\n",
       "      <th>year</th>\n",
       "      <th>preprocessed_content</th>\n",
       "      <th>ner_entities</th>\n",
       "      <th>e_score</th>\n",
       "      <th>s_score</th>\n",
       "      <th>g_score</th>\n",
       "      <th>total_score</th>\n",
       "    </tr>\n",
       "  </thead>\n",
       "  <tbody>\n",
       "    <tr>\n",
       "      <th>0</th>\n",
       "      <td>595</td>\n",
       "      <td>NYSE_LMT_2022.pdf</td>\n",
       "      <td>LMT</td>\n",
       "      <td>2022</td>\n",
       "      <td>propel principle report proud present sustaina...</td>\n",
       "      <td>['martin', 'martin sustainability', 'the calen...</td>\n",
       "      <td>5.27</td>\n",
       "      <td>15.93</td>\n",
       "      <td>7.34</td>\n",
       "      <td>28.53</td>\n",
       "    </tr>\n",
       "    <tr>\n",
       "      <th>1</th>\n",
       "      <td>347</td>\n",
       "      <td>NYSE_AXP_2019.pdf</td>\n",
       "      <td>AXP</td>\n",
       "      <td>2019</td>\n",
       "      <td>powerful backing american express environmenta...</td>\n",
       "      <td>['american', 'american', 'year', 'american', '...</td>\n",
       "      <td>0.07</td>\n",
       "      <td>13.13</td>\n",
       "      <td>10.19</td>\n",
       "      <td>23.25</td>\n",
       "    </tr>\n",
       "    <tr>\n",
       "      <th>2</th>\n",
       "      <td>560</td>\n",
       "      <td>NYSE_IVZ_2018.pdf</td>\n",
       "      <td>IVZ</td>\n",
       "      <td>2018</td>\n",
       "      <td>corporate social responsibility report commitm...</td>\n",
       "      <td>['invesco', 'un', 'more than four tons', 'dail...</td>\n",
       "      <td>1.47</td>\n",
       "      <td>14.46</td>\n",
       "      <td>10.93</td>\n",
       "      <td>26.29</td>\n",
       "    </tr>\n",
       "    <tr>\n",
       "      <th>3</th>\n",
       "      <td>400</td>\n",
       "      <td>NYSE_CMA_2019.pdf</td>\n",
       "      <td>CMA</td>\n",
       "      <td>2019</td>\n",
       "      <td>statement document historical fact look statem...</td>\n",
       "      <td>['one', 'the securities and exchange commissio...</td>\n",
       "      <td>2.10</td>\n",
       "      <td>11.32</td>\n",
       "      <td>12.22</td>\n",
       "      <td>25.91</td>\n",
       "    </tr>\n",
       "    <tr>\n",
       "      <th>4</th>\n",
       "      <td>320</td>\n",
       "      <td>NYSE_AMT_2020.pdf</td>\n",
       "      <td>AMT</td>\n",
       "      <td>2020</td>\n",
       "      <td>report sustainability report table content ame...</td>\n",
       "      <td>['american', 'american', 'american', 'first', ...</td>\n",
       "      <td>5.81</td>\n",
       "      <td>6.68</td>\n",
       "      <td>5.60</td>\n",
       "      <td>18.09</td>\n",
       "    </tr>\n",
       "  </tbody>\n",
       "</table>\n",
       "</div>"
      ],
      "text/plain": [
       "   Unnamed: 0           filename ticker  year  \\\n",
       "0         595  NYSE_LMT_2022.pdf    LMT  2022   \n",
       "1         347  NYSE_AXP_2019.pdf    AXP  2019   \n",
       "2         560  NYSE_IVZ_2018.pdf    IVZ  2018   \n",
       "3         400  NYSE_CMA_2019.pdf    CMA  2019   \n",
       "4         320  NYSE_AMT_2020.pdf    AMT  2020   \n",
       "\n",
       "                                preprocessed_content  \\\n",
       "0  propel principle report proud present sustaina...   \n",
       "1  powerful backing american express environmenta...   \n",
       "2  corporate social responsibility report commitm...   \n",
       "3  statement document historical fact look statem...   \n",
       "4  report sustainability report table content ame...   \n",
       "\n",
       "                                        ner_entities  e_score  s_score  \\\n",
       "0  ['martin', 'martin sustainability', 'the calen...     5.27    15.93   \n",
       "1  ['american', 'american', 'year', 'american', '...     0.07    13.13   \n",
       "2  ['invesco', 'un', 'more than four tons', 'dail...     1.47    14.46   \n",
       "3  ['one', 'the securities and exchange commissio...     2.10    11.32   \n",
       "4  ['american', 'american', 'american', 'first', ...     5.81     6.68   \n",
       "\n",
       "   g_score  total_score  \n",
       "0     7.34        28.53  \n",
       "1    10.19        23.25  \n",
       "2    10.93        26.29  \n",
       "3    12.22        25.91  \n",
       "4     5.60        18.09  "
      ]
     },
     "execution_count": 12,
     "metadata": {},
     "output_type": "execute_result"
    }
   ],
   "source": [
    "import pandas as pd\n",
    "\n",
    "# Convert the train split to pandas\n",
    "df = dataset[\"train\"].to_pandas()\n",
    "\n",
    "df.head()"
   ]
  },
  {
   "cell_type": "markdown",
   "id": "ca7fea0a-e70a-4ad9-8429-eae768110f93",
   "metadata": {},
   "source": [
    "### Sample view\n",
    "\n",
    "The report has already been preprocessed for training"
   ]
  },
  {
   "cell_type": "code",
   "execution_count": 16,
   "id": "46dce9d9-d48a-43bc-bea4-473dd0c6159a",
   "metadata": {},
   "outputs": [
    {
     "data": {
      "text/plain": [
       "{'Unnamed: 0': [410],\n",
       " 'filename': ['NYSE_CMS_2020.pdf'],\n",
       " 'ticker': ['CMS'],\n",
       " 'year': [2020],\n",
       " 'preprocessed_content': ['environmental social governance sustainability report consistent template environmental social governance esg sustainability report section qualitative information introduction energy primary subsidiary consumer energy integrate sustainable principle company commitment triple line people planet prosperity foundation large utility consideration environmental social governance esg issue embed strategy business planning enterprise risk management process commitment align purpose world class performance deliver hometown service triple line balance interest stakeholder include worker customer supplier regulator resident investment community energy participate voluntary industry initiative coordinate provide public customer shareholder uniform consistent esg relate metric report supplement exist disclosure issue include sustainability report sustainability website find story sustainability effort people make real positive impact energy know climate change happen care planet focus clean lean operating strategy environment climate change past year consumer energy create clean sustainable energy future take leadership position reduce air emission water use landfill waste action speak word track record require action date reduce carbon emission percent reduce water use percent avoid cubic yard landfill disposal say president ceo energy consumer energy satisfied consumer energy announce goal achieve net carbon emission electric generation business step industry lead clean energy plan protect planet future generation reduction goal nation aggressive sized utility consumer energy embrace clean lean vision focus eliminate waste energy add renewable energy source wind solar addition effort reduce electric utility carbon footprint help reduce gas utility methane footprint consumer energy set industry lead goal net methane emission natural gas delivery system outline methane reduction plan plan reduce methane emission system percent replace age pipe rehabilitating retire outdated infrastructure adopt new technology practice remain emission eliminate purchase produce renewable natural gas offset greenhouse gas capture emission atmosphere renewable energy outline clean energy plan approve service commission plan add megawatt wind help reach percent renewable energy air emission particulate reductioncarbon dioxide reductionmercury reductionnitrogen oxide noxsulfur dioxide reduction standard end plan add capacity allow flexibility planning resource type adapt change condition plan add megawatt solar energy ramp prepare retirement certain fossil fuel fire unit end power purchase agreement additional solar capacity mix own purchase clean energy plan forecast renewable energy level plan help reduce carbon emission own generation percent level consumer energy renewable capacity grow percent percent look percentage continue grow transition coal renewable support clean energy plan operate wind farm lake wind energy park cross wind energy park addition exist wind farm recent effort develop new renewable energy source include build gratiot farm wind project enter agreement purchase wind project hillsdale county project development expect begin commercial operation late agree purchase renewable capacity energy solar facility construct expect operational procure substantial new solar capacity competitive bidding process include online purchase power solar qualifying facility generation generation generation nuclear energy storage oil natural gas peaking plant renewable coal natural clean energy plan electric capacity fuel source add additional wind turbine cross wind energy park operate community solar power plant valley state western university generate clean energy add half program launch pilot program allow business purchase percent clean energy help business achieve corporate sustainability goal waste reduction energy efficiency consumer energy continue long history promote energy waste reduction energy efficiency energy waste reduction important effort build sustainable future reduce energy waste good people planet prosperity save money household budget reduce carbon emission put people work say consumer energy senior vice president chief customer officer consumer energy energy waste reduction program help customer save energy bill boost total customer saving prevent ton carbon dioxide emission energy saving deliver residential program represent saving supply electricity home natural gas home year recognize effort consumer energy receive energy star partner year sustain award consumer clean energy plan maintain energy waste reduction key reduce company carbon emission year come electric support powermidrive program consumer energy launch powermidrive program year pilot help customer realize economic environmental benefit electric vehicle evs expand charging grid capability natural gas saving mmcf cumulative net realize savingselectric saving cumulative net realize saving program launch increase charge capability public charge infrastructure electric service territory include award home charger rebate incentive residential participant award plan public level charger rebate awarding partnership great lake energy egle plan direct current fast charger rebate different city consumer energy enrol customer new time use rate provide lower rate peak charging initial residential load profile datum show rate effectiveness percent charge occur peak weekday percent peak charging weekend water use reduction landfill waste reduction land protection consumer energy great stride reduce impact key part environment include water use example reduce water use retire coal fire generation unit know classic consumer energy begin work follow year target save gallon water enhance restore protect acre land reduce waste send landfill percent consumer energy significant progress goal protect environment reduce carbon footprint reduce water usage gallon enhance restore protect acre land reduce waste take landfill percent social culture enable worker live value company culture caring empower deliberate agility ownership include care worker community serve addition focus esg relate issue core business leverage corporate giving initiative employee volunteerism focus people planet prosperity health safety health safety employee public priority work improve safety culture performance result decrease safety incident rank consumer energy quartile utility standard safety performance remain dedicated goal safety incident partner eei develop new proactive risk base safety model model allow ensure control place prevent injury fatality continue focus cyber security dedicated team focus detect respond threat close coordination state federal partner human right energy respect human right worker expect strong ethical community partner form positive relationship business committed value respect human right operation conduct business way leave positive impact people community serve human right policy detail commitment diversity equity inclusion committed create world people respect include value unique quality ability treat afford opportunity advance realize vision require examine business operation consider decision impact diversity equity inclusion worker customer community serve build world class inclusive workforce customer experience embed diversity equity inclusion mean evaluate recruit hire retain lead reward develop worker empower embody connect standard corporate value caring empowered deliberate agility ownership integral improve worker experience ensure alignment engagement customer supplier support community effort lead magazine good employer woman utility sector good employer include create virtual safety inclusion tailboard use remote work meeting remind worker colleague safe establish employee resource group erg encourage collaboration support inclusion provide community worker woman minority veteran able multi generational change parental leave policy allow birth mother month week pay leave month week pay leave non birthing parent appoint thompkin vice president chief diversity officer set monitor diversity equity inclusion strategy serve drive force good implement holistic strategy focus worker customer community shareholder recent effort include donate grant support black life matter movement fight racism shape systemic change create opportunity help lead effort add gender identity sexual orientation list protect class state elliott larsen civil right support non discrimination anti racism effort hometown site corporate headquarter commit increase supplier diversity spending michigan base minority own business prosperity take initiative grow local economy resource committed improve workforce training align education training resource state raise awareness career pathway energy industry supporter advocate science technology engineering math education state important attract great talent consumer energy foundation provide monetary contribution variety educational program program support success small business consumer energy commit spend michigan base supplier year period start pure business connect initiative effort help boost prosperity response company take step protect worker customer spread help affected alignment center disease control guideline order rule state change customer interaction promote health safety equip frontline worker appropriate personal protective equipment adjust employee policy provide well support addition emotional employee priority difficult time create fund help michigan resident small business struggle pay energy bill covid provide lifeline help need stay foot consumer energy set goal help household small business new assistance learn emergency response web additional information consumer energy foundation consumer energy foundation provide grant mobilize volunteer strengthen local education social service environment community economic cultural development foundation donate consumer energy donate additional combine foundation giving separate company contribution benefit corporation foundation fund company donation include customer rate contribution employee retiree support nonprofit organization cultivate sustainable community company donate support organization effort help people protect planet promote prosperity people planet prosperity foundation give focus emergency relief addition fund focus discuss learn foundation help pandemic addition spirit giving corporate donation consumer energy president ceo personal commitment early day pandemic donate help small business company hometown husband donation create separate fund know dream maker small business emergency relief fund information available volunteerism company long history support active worker volunteerism variety area company target key volunteer opportunity difference worker record volunteer hour nonprofit event include park waterway cleanup earth month youth robotic competition community neighborhood revitalization activity consumer energy multiple level sustainability oversight integrate daily operation use governance risk management tool address esg sustainability matter include oversight energy consumer energy board director board enterprise risk management program robust strategic business planning process board comprise director experience knowledge esg sustainability issue high level oversight esg sustainability practice review practice occur board level audit committee governance sustainability public responsibility committee compensation human resource committee oversee enterprise risk management framework include strategic operational risk process guideline policy identify assess monitoring mitigate risk risk embed business process key decision level company responsible review evaluate composition board recommend board nominee oversee corporate governance advise assist board public responsibility sustainability matter acknowledge grow importance sustainability climate relate matter board task governance sustainability public responsibility committee oversight sustainability practice add responsibility charter committee responsible executive compensation structure benefit compensation plan critical human resource program committee charter find environment comprise senior leadership influence environmental compliance sustainability program govern decision support commitment planet include long term strategic decision pertain environmental issue include climate esg disclosure reporting addition robust oversight structure energy enterprise risk management program ensure risk impact business know understand inform risk mitigation strategy scope objective role responsibility relate erm program include company corporate risk policy approve board audit committee program cover risk energy subsidiary area strategic operational regulatory environmental financial information technology operation cyber security area address risk program physical impact climate change company cross functional team discuss potential impact asset address issue cost effective manner strategy integration internal external datum source leverage input long term strategic planning datum analyze synthesize update trend critical current future business data influence multiple area strategy include distribute energy resource wholesale market customer energy usage trend climate policy information assess strategic choice underlying assumption senior team board engage insight work year evaluate strategic choice test potential new opportunity threat spend significant time effort listen customer key stakeholder make decision long term resource plan environmental sustainability strategy consider people planet prosperity example engage stakeholder develop clean energy breakthrough goal integrate resource plan irp filing engagement include series promote public forum stakeholder opportunity provide input long term resource plan forum design informational educational session chance offer comment ask question topic renewable energy energy efficiency emerge technology meet group environmental nonprofit organization discuss progress clean energy breakthrough goal collect feedback host similar stakeholder engagement activity development ongoing outreach program develop maintain communication shareholder value discussion board consider feedback evaluate corporate governance issue management participate shareholder industry conference discuss performance esg topic shareholder worker party contact board inquiry issue method describe website board respond appropriate resource provide extensive public reporting disclosure esg sustainability include environmental stewardship term strategy address matter security environmental regulatory agency filing report effort cdp climate report cdp water report energy publish climate assessment report update enhance disclosure relate sustainability effort website sustainability report provide well understanding breadth depth climate relate planning practice find electric portfolio trend own nameplate generation capacity end year natural gas nuclear oil natural gas peaking unit total renewable energy resource geothermal hydroelectric solar wind own net generation datum year coal natural gas nuclear oil natural gas peaking unit total renewable energy resource solar purchase net generation datum year natural gas nuclear oil natural gas peaking unit total renewable energy resource biomass biogas solar wind invest future capital expenditure energy efficiency smart meter total annual capital expenditure nominal dollar incremental annual electricity saving measure incremental annual investment electric nominal dollar cumulative bill saving cumulative emission avoid program metric ton percent total electric customer smart meter end year retail electric customer count end year commercial industrial residential ntrend key rate change well company energy corporation rps program michigan follow quantitative information consumer energy datum environment regulate energy website consumer energy website sustainability report quantitative information consumer energy correct error coding customer industrial commercial result large number customer classification change industrial commercial emission trend ghg emission carbon dioxide carbon dioxide equivalent own generation total own generation emission total own generation emission intensity total own generation total own generation emission intensity purchase power total purchase generation emission total purchase generation emission intensity total purchase generation total purchase generation emission intensity own generation purchase power total own purchase generation emission total own purchase generation emission intensity total own purchase generation total own purchase generation emission intensity non generation emission sulfur hexafluoride gas scope greenhouse gas emission scope emission emission emission oxide nox sulfur dioxide mercury generation basis calculation fossil nitrogen oxide nox total nox emission total nox emission intensity sulfur dioxide total emission total emission intensity total emission total emission intensity ntrend key rate change well bad scope number show update include line loss electric distribution system purchase power scope number prior public report reflect additional analysis consumer energy report know emission associate scope category include emission associate purchase power fuel energy relate activity include scope combustion natural gas sell use sell product business travel employee commuting resource trend human resource total number employee total number board director trustee total woman board director trustee total minority board director trustee total female senior leadership percent female senior leadership total minority senior leadership percent minority senior leadership total female management percent female management total minority management percent minority management total female employee percent female employee total minority employee percent minority total veteran employee percent veteran employee total disability status employee percent disability status employee employee safety metric recordable incident rate lose time case rate day restrict transfer dart rate work relate fatality fresh water resource water withdrawal consumptive billion liter water withdrawal non consumptive billion liter product hazardous waste manifest disposal ton percent coal combustion product ntrend key rate change well bad natural gas distribution trend methane emission mitigation distribution main number gas distribution customer distribution main service plastic mile protect steel bare coated mile unprotected steel bare coated mile cast iron wrought iron upgrade mile plan commitment replace upgrade remain mile distribution main year complete order improve safety reliability natural gas system consumer energy invest replace mile natural gas pipeline enhance infrastructure replacement program eirp project begin unprotected coated year complete cast iron wrought iron year complete distribution emission fugitive methane emission gas distribution operation metric ton fugitive methane emission gas distribution operation metric ton fugitive methane emission gas distribution operation mmscf year annual natural gas throughput gas distribution operation thousand standard cubic foot year annual methane gas throughput gas distribution operation million standard cubic foot mmscf year fugitive methane emission rate mmscf methane emission mmscf methane throughput natural gas transmission storage onshore natural gas transmission compression methane emission compressor station datum compressor station subpart reporting threshold report threshold pneumatic device venting metric ton year vent stack metric ton year transmission storage tank metric ton year flare stack emission metric ton year centrifugal compressor venting metric ton year reciprocate compressor venting metric ton year equipment leak valve connector open ended line pressure relief valve meter metric ton year leak metric ton year total transmission compression methane emission metric ton year total transmission compression methane emission year total transmission compression methane emission year ntrend key rate change well worsenatural gas business sustainability metric parent company energy regulatory environment regulate natural gas transmission storage trend underground natural gas storage methane emission pneumatic device venting metric ton year flare stack emission metric ton year centrifugal compressor venting metric ton year reciprocate compressor venting metric ton year equipment leak valve connector open ended line pressure relief valve meter metric ton year equipment leak metric ton year equipment leak valve connector open ended line pressure relief valve associate storage wellhead metric ton year equipment leak component associate storage wellhead metric ton year total storage compression methane emission metric ton year total storage compression methane emission year total storage compression methane emission year onshore natural gas transmission pipeline blowdown transmission pipeline blowdown vent stack metric ton year transmission pipeline blowdown vent stack year transmission pipeline blowdown vent stack year non sub emission datum total methane emission additional source recognize cfr subpart metric ton year total methane emission additional source recognize cfr subpart year total methane emission additional source recognize cfr subpart year summary metric total transmission storage methane emission mmscf year annual natural gas throughput gas transmission storage operation year annual methane gas throughput gas transmission storage operation mmscf year fugitive methane emission rate mmscf methane emission mmscf methane throughput natural gas gathering boost methane emission gathering boost pipeline blow volume emission total mile gather pipeline operate gas utility mile volume gather pipeline blow emission gather pipeline blow emission storage compression facility metric ton combustion emission gather boost compression emission gather boost compression station metric ton conventional combustion emission gather boost compression emission report permit source minor major nox metric ton year voc metric ton year ntrend key rate change well bad consumer energy facility include section report consistent utility reporting template report contain look statement cause result differ look statement consider context risk factor detail time time energy consumer energy security filing look statement read conjunction look statement information risk factor section recent form update report file find regulatory filing consumer energy obligation update revise look statement new information future event factor affect information contain statement'],\n",
       " 'ner_entities': [\"['edison electric institute (eei)', 'american gas association', 'michigan', 'michigan', 'the edison electric institute (eei)', 'the american gas association', 'cms energy', 'the past five years', 'over one million cubic yards', 'patti poppe', 'cms', 'february', 'zero', 'zero', 'michigan', 'michigan', 'two', 'mason county', 'gratiot county', 'calhoun county', 'another half', 'cadillac', 'michigan', 'brian rich', 'nearly $', '$. billion', 'nearly  million tons', 'a year', 'u.s.', 'the year', 'years', 'three-year', 'the michigan department of environment', 'weekdays', 'nearly %', 'seven', 'seven', 'five-year', '•', 'billion gallons', 'michigan', 'over  million gallons', 'edison electric institute (eei)', 'zero', 'de&i', 'de&i', 'de&i', 'one', 'michigan', 'six months', 'weeks', 'four-month', 'weeks', 'angela thompkins', 'de&i', 'de&i', 'michigan', 'elliott-larsen', 'jackson', 'michigan', 'michigan', 'michigan', '$. billion', 'michigan', 'a five- year', 'june', 'michigan', 'michigan', '$ million', 'michigan', 'more than $ million', 'an additional $ million', 'million', 'michigan', '$. million', 'michigan', '•', '$ million', '$. million', '$. million', 'october', 'about $ million', 'million', 'patti poppe', 'the early days', 'million', 'jackson', 'mich.', 'eric', 'the jackson community foundation', 'hours', 'michigan', 'earth month', 'daily', 'cms', '•', 'one', 'the year', 'michigan', 'third', 'cdp', 'november', 'annual', 'annual', 'annual', 'n electric & gas', 'four', 'a % %', 'a % %', 'a % %', 'a % %', 'n percent', 'a % %', 'n percent', 'a % %', 'a % %', 'a % %', 'n days', 'billions', 'billions', 'n/a %', '# years', 'nearly $ billion', '# years', '# years', 'mmscf/year', 'thousands', 'annual', 'millions', 'mmscf/year', 'subpart w', '(metric tons', '(metric tons', '(metric tons', '(metric tons', '(metric tons', '(metric tons', '(metric tons', 'mmscf/year', 'annual', 'mmscf/year', '( metric tons', 'cms energy’s', 'sec', 'sec']\"],\n",
       " 'e_score': [13.52],\n",
       " 's_score': [9.07],\n",
       " 'g_score': [5.35],\n",
       " 'total_score': [27.94]}"
      ]
     },
     "execution_count": 16,
     "metadata": {},
     "output_type": "execute_result"
    }
   ],
   "source": [
    "sample = dataset[\"train\"].shuffle(seed=42).select(range(100))\n",
    "# Peek at the first few examples\n",
    "sample[:1]"
   ]
  },
  {
   "cell_type": "markdown",
   "id": "77cd4770-70ad-40c6-be82-28edd9078de6",
   "metadata": {},
   "source": [
    "### Rename the columns"
   ]
  },
  {
   "cell_type": "code",
   "execution_count": 18,
   "id": "f5e0480d-81e1-4d87-9779-66c5078a65a8",
   "metadata": {},
   "outputs": [],
   "source": [
    "dataset = dataset.rename_column(\"preprocessed_content\", \"report\")"
   ]
  },
  {
   "cell_type": "markdown",
   "id": "b3ac383f-057f-464e-b812-d326cfa6828e",
   "metadata": {},
   "source": [
    "### Compute report length"
   ]
  },
  {
   "cell_type": "code",
   "execution_count": 19,
   "id": "d0455a60-fe1e-4a6c-8184-a379e4fd8631",
   "metadata": {},
   "outputs": [
    {
     "data": {
      "application/vnd.jupyter.widget-view+json": {
       "model_id": "7bd8af78721744a2b73bee43077008de",
       "version_major": 2,
       "version_minor": 0
      },
      "text/plain": [
       "Map:   0%|          | 0/622 [00:00<?, ? examples/s]"
      ]
     },
     "metadata": {},
     "output_type": "display_data"
    },
    {
     "data": {
      "application/vnd.jupyter.widget-view+json": {
       "model_id": "719ea8abc1cd40c49bddf391263c6a3f",
       "version_major": 2,
       "version_minor": 0
      },
      "text/plain": [
       "Map:   0%|          | 0/70 [00:00<?, ? examples/s]"
      ]
     },
     "metadata": {},
     "output_type": "display_data"
    },
    {
     "data": {
      "application/vnd.jupyter.widget-view+json": {
       "model_id": "6181064a82894017861fa53f6dd405c3",
       "version_major": 2,
       "version_minor": 0
      },
      "text/plain": [
       "Map:   0%|          | 0/174 [00:00<?, ? examples/s]"
      ]
     },
     "metadata": {},
     "output_type": "display_data"
    }
   ],
   "source": [
    "def compute_report_length(batch):\n",
    "    return {\"report_length\": [len(text.split()) for text in batch[\"report\"]]}\n",
    "\n",
    "dataset = dataset.map(compute_report_length, batched=True)"
   ]
  },
  {
   "cell_type": "code",
   "execution_count": 23,
   "id": "9e5ef3be-7fb9-409e-bea8-4c16d128a784",
   "metadata": {},
   "outputs": [
    {
     "data": {
      "image/png": "[encoded data removed]",
      "text/plain": [
       "<Figure size 640x480 with 1 Axes>"
      ]
     },
     "metadata": {},
     "output_type": "display_data"
    }
   ],
   "source": [
    "import matplotlib.pyplot as plt\n",
    "\n",
    "# Extract report lengths as a list\n",
    "lengths = dataset[\"train\"][\"report_length\"]\n",
    "\n",
    "plt.hist(lengths, bins=30, edgecolor='black')\n",
    "plt.xlabel('Report Length (number of words)')\n",
    "plt.ylabel('Frequency')\n",
    "plt.title('Histogram of ESG Report Lengths (Train Set)')\n",
    "plt.show()"
   ]
  },
  {
   "cell_type": "markdown",
   "id": "507db7f9-08d9-4c20-bb17-76974cc5fe55",
   "metadata": {},
   "source": [
    "The report length is extremely long. A good model to train on will be \"allenai/longformer-base-4096\" which has 4096-token limit."
   ]
  },
  {
   "cell_type": "markdown",
   "id": "6f10851e-be5e-4ba8-a4cd-02f6260d08f4",
   "metadata": {},
   "source": [
    "### Save the dataset"
   ]
  },
  {
   "cell_type": "code",
   "execution_count": 44,
   "id": "8846f606-9563-475e-9d8c-c68a49f07bd4",
   "metadata": {},
   "outputs": [
    {
     "data": {
      "application/vnd.jupyter.widget-view+json": {
       "model_id": "248a3d50304f4d2bb831e288f9167e0a",
       "version_major": 2,
       "version_minor": 0
      },
      "text/plain": [
       "Saving the dataset (0/1 shards):   0%|          | 0/622 [00:00<?, ? examples/s]"
      ]
     },
     "metadata": {},
     "output_type": "display_data"
    },
    {
     "data": {
      "application/vnd.jupyter.widget-view+json": {
       "model_id": "d46af2b32a344a2b8b08201146dcfc19",
       "version_major": 2,
       "version_minor": 0
      },
      "text/plain": [
       "Saving the dataset (0/1 shards):   0%|          | 0/70 [00:00<?, ? examples/s]"
      ]
     },
     "metadata": {},
     "output_type": "display_data"
    },
    {
     "data": {
      "application/vnd.jupyter.widget-view+json": {
       "model_id": "0a859b3b34534cdfb73a269f72e197fb",
       "version_major": 2,
       "version_minor": 0
      },
      "text/plain": [
       "Saving the dataset (0/1 shards):   0%|          | 0/174 [00:00<?, ? examples/s]"
      ]
     },
     "metadata": {},
     "output_type": "display_data"
    }
   ],
   "source": [
    "dataset.save_to_disk(\"esg_reports\")"
   ]
  },
  {
   "cell_type": "markdown",
   "id": "02680689-ad2a-43f8-943b-f5acc8dca615",
   "metadata": {},
   "source": [
    "We can load the dataset again using load_from_disk"
   ]
  },
  {
   "cell_type": "code",
   "execution_count": 4,
   "id": "3b0e1fdf-31f0-4e05-87fc-8822e63b0acf",
   "metadata": {},
   "outputs": [
    {
     "data": {
      "text/plain": [
       "DatasetDict({\n",
       "    train: Dataset({\n",
       "        features: ['Unnamed: 0', 'filename', 'ticker', 'year', 'report', 'ner_entities', 'e_score', 's_score', 'g_score', 'total_score', 'report_length'],\n",
       "        num_rows: 622\n",
       "    })\n",
       "    validation: Dataset({\n",
       "        features: ['Unnamed: 0', 'filename', 'ticker', 'year', 'report', 'ner_entities', 'e_score', 's_score', 'g_score', 'total_score', 'report_length'],\n",
       "        num_rows: 70\n",
       "    })\n",
       "    test: Dataset({\n",
       "        features: ['Unnamed: 0', 'filename', 'ticker', 'year', 'report', 'ner_entities', 'e_score', 's_score', 'g_score', 'total_score', 'report_length'],\n",
       "        num_rows: 174\n",
       "    })\n",
       "})"
      ]
     },
     "execution_count": 4,
     "metadata": {},
     "output_type": "execute_result"
    }
   ],
   "source": [
    "from datasets import load_from_disk\n",
    "\n",
    "dataset= load_from_disk(\"esg_reports\")\n",
    "dataset"
   ]
  },
  {
   "cell_type": "markdown",
   "id": "cb384017-f3a1-41d3-ab2e-3479ac2da7ee",
   "metadata": {},
   "source": [
    "# Tokenizer"
   ]
  },
  {
   "cell_type": "code",
   "execution_count": 5,
   "id": "47da0d37-ebbc-4830-b4eb-8156e872b421",
   "metadata": {},
   "outputs": [],
   "source": [
    "from transformers import AutoTokenizer\n",
    "\n",
    "tokenizer = AutoTokenizer.from_pretrained(\"allenai/longformer-base-4096\")"
   ]
  },
  {
   "cell_type": "markdown",
   "id": "fa0de927-f4b0-4989-9a58-89a51c2686e9",
   "metadata": {},
   "source": [
    "### Tokenize\n",
    "\n",
    "Since the max length is 4096 tokens, we set return_overflowing_tokens=True so that long reports are returned in chunks of 4096 tokens.  \n",
    "With \"overflow_to_sample_mapping\", we can repeat values in other columns for chunks belonging to the same report\n",
    "\n",
    "Note: I have set max_length=1024 as my GPU Vram(4GB) is out of memory, set this to lower or higher depending on how much vram you have."
   ]
  },
  {
   "cell_type": "code",
   "execution_count": 6,
   "id": "2abec57c-39b8-4add-8038-dcc16d24cb81",
   "metadata": {},
   "outputs": [],
   "source": [
    "def tokenize_and_split(examples):\n",
    "    result = tokenizer(\n",
    "        examples[\"report\"],\n",
    "        truncation=True,\n",
    "        max_length=1024,\n",
    "        return_overflowing_tokens=True,\n",
    "        stride=256\n",
    "    )\n",
    "    \n",
    "    sample_map = result.pop(\"overflow_to_sample_mapping\")\n",
    "\n",
    "    # Repeat all original fields to match chunked outputs\n",
    "    for key, values in examples.items():\n",
    "        result[key] = [values[i] for i in sample_map]\n",
    "\n",
    "    return result"
   ]
  },
  {
   "cell_type": "code",
   "execution_count": 7,
   "id": "80c9f1ad-63bc-457e-95ce-23e4d9d13db9",
   "metadata": {},
   "outputs": [
    {
     "data": {
      "application/vnd.jupyter.widget-view+json": {
       "model_id": "a8bed4e82c344d16aa0791a7abf9272c",
       "version_major": 2,
       "version_minor": 0
      },
      "text/plain": [
       "Map:   0%|          | 0/622 [00:00<?, ? examples/s]"
      ]
     },
     "metadata": {},
     "output_type": "display_data"
    },
    {
     "data": {
      "application/vnd.jupyter.widget-view+json": {
       "model_id": "64b70f36aba84c4ab92ca3959bc4113d",
       "version_major": 2,
       "version_minor": 0
      },
      "text/plain": [
       "Map:   0%|          | 0/70 [00:00<?, ? examples/s]"
      ]
     },
     "metadata": {},
     "output_type": "display_data"
    },
    {
     "data": {
      "application/vnd.jupyter.widget-view+json": {
       "model_id": "9850efa11acd4f98ab764481ee3fca2f",
       "version_major": 2,
       "version_minor": 0
      },
      "text/plain": [
       "Map:   0%|          | 0/174 [00:00<?, ? examples/s]"
      ]
     },
     "metadata": {},
     "output_type": "display_data"
    }
   ],
   "source": [
    "tokenized_dataset = dataset.map(\n",
    "    tokenize_and_split,\n",
    "    batched=True\n",
    ")"
   ]
  },
  {
   "cell_type": "code",
   "execution_count": 9,
   "id": "86274516-e2ec-4299-ae04-dc3ec2f503f7",
   "metadata": {},
   "outputs": [
    {
     "data": {
      "text/plain": [
       "DatasetDict({\n",
       "    train: Dataset({\n",
       "        features: ['Unnamed: 0', 'filename', 'ticker', 'year', 'report', 'ner_entities', 'e_score', 's_score', 'g_score', 'total_score', 'report_length', 'input_ids', 'attention_mask'],\n",
       "        num_rows: 10721\n",
       "    })\n",
       "    validation: Dataset({\n",
       "        features: ['Unnamed: 0', 'filename', 'ticker', 'year', 'report', 'ner_entities', 'e_score', 's_score', 'g_score', 'total_score', 'report_length', 'input_ids', 'attention_mask'],\n",
       "        num_rows: 1187\n",
       "    })\n",
       "    test: Dataset({\n",
       "        features: ['Unnamed: 0', 'filename', 'ticker', 'year', 'report', 'ner_entities', 'e_score', 's_score', 'g_score', 'total_score', 'report_length', 'input_ids', 'attention_mask'],\n",
       "        num_rows: 3006\n",
       "    })\n",
       "})"
      ]
     },
     "execution_count": 9,
     "metadata": {},
     "output_type": "execute_result"
    }
   ],
   "source": [
    "tokenized_dataset"
   ]
  },
  {
   "cell_type": "code",
   "execution_count": 10,
   "id": "f68e73c7-6fc4-4f08-aca9-fd94a6c68659",
   "metadata": {},
   "outputs": [
    {
     "data": {
      "text/plain": [
       "DatasetDict({\n",
       "    train: Dataset({\n",
       "        features: ['e_score', 's_score', 'g_score', 'total_score', 'input_ids', 'attention_mask'],\n",
       "        num_rows: 10721\n",
       "    })\n",
       "    validation: Dataset({\n",
       "        features: ['e_score', 's_score', 'g_score', 'total_score', 'input_ids', 'attention_mask'],\n",
       "        num_rows: 1187\n",
       "    })\n",
       "    test: Dataset({\n",
       "        features: ['e_score', 's_score', 'g_score', 'total_score', 'input_ids', 'attention_mask'],\n",
       "        num_rows: 3006\n",
       "    })\n",
       "})"
      ]
     },
     "execution_count": 10,
     "metadata": {},
     "output_type": "execute_result"
    }
   ],
   "source": [
    "cols_to_remove = [col for col in tokenized_dataset[\"train\"].column_names if col not in [\"e_score\", \"s_score\", \"g_score\", \"total_score\", \"input_ids\", \"attention_mask\"]]\n",
    "\n",
    "tokenized_dataset = tokenized_dataset.remove_columns(cols_to_remove)\n",
    "tokenized_dataset"
   ]
  },
  {
   "cell_type": "code",
   "execution_count": 11,
   "id": "8855d4dd-ae98-4bcf-bca8-dbc01ed4fa58",
   "metadata": {},
   "outputs": [
    {
     "data": {
      "application/vnd.jupyter.widget-view+json": {
       "model_id": "ca8e701650084832b9a5657e419555d6",
       "version_major": 2,
       "version_minor": 0
      },
      "text/plain": [
       "Saving the dataset (0/1 shards):   0%|          | 0/10721 [00:00<?, ? examples/s]"
      ]
     },
     "metadata": {},
     "output_type": "display_data"
    },
    {
     "data": {
      "application/vnd.jupyter.widget-view+json": {
       "model_id": "656191e60c0e4baaa3a000f26634e76a",
       "version_major": 2,
       "version_minor": 0
      },
      "text/plain": [
       "Saving the dataset (0/1 shards):   0%|          | 0/1187 [00:00<?, ? examples/s]"
      ]
     },
     "metadata": {},
     "output_type": "display_data"
    },
    {
     "data": {
      "application/vnd.jupyter.widget-view+json": {
       "model_id": "0aca3b85ef8c4827b23a3bd0ff09ff90",
       "version_major": 2,
       "version_minor": 0
      },
      "text/plain": [
       "Saving the dataset (0/1 shards):   0%|          | 0/3006 [00:00<?, ? examples/s]"
      ]
     },
     "metadata": {},
     "output_type": "display_data"
    }
   ],
   "source": [
    "tokenized_dataset.save_to_disk(\"esg_tokenized\")"
   ]
  }
 ],
 "metadata": {
  "kernelspec": {
   "display_name": "Python 3 (ipykernel)",
   "language": "python",
   "name": "python3"
  },
  "language_info": {
   "codemirror_mode": {
    "name": "ipython",
    "version": 3
   },
   "file_extension": ".py",
   "mimetype": "text/x-python",
   "name": "python",
   "nbconvert_exporter": "python",
   "pygments_lexer": "ipython3",
   "version": "3.12.3"
  }
 },
 "nbformat": 4,
 "nbformat_minor": 5
}
